{
  "nbformat": 4,
  "nbformat_minor": 0,
  "metadata": {
    "colab": {
      "provenance": [],
      "include_colab_link": true
    },
    "kernelspec": {
      "name": "python3",
      "display_name": "Python 3"
    },
    "language_info": {
      "name": "python"
    }
  },
  "cells": [
    {
      "cell_type": "markdown",
      "metadata": {
        "id": "view-in-github",
        "colab_type": "text"
      },
      "source": [
        "<a href=\"https://colab.research.google.com/github/Shivani-Pathak/K-Mean/blob/main/Time_Series.ipynb\" target=\"_parent\"><img src=\"https://colab.research.google.com/assets/colab-badge.svg\" alt=\"Open In Colab\"/></a>"
      ]
    },
    {
      "cell_type": "code",
      "execution_count": 1,
      "metadata": {
        "id": "jPMTKLHl-WLR"
      },
      "outputs": [],
      "source": [
        "arr=[8,13,19,10,2,29,35,22,65,132]"
      ]
    },
    {
      "cell_type": "code",
      "source": [
        "a=[]\n",
        "for i in range(len(arr)):\n",
        "  if i==len(arr)-1:\n",
        "    break\n",
        "  a.append(arr[i]-arr[i+1])"
      ],
      "metadata": {
        "id": "vxCJrO33IwqW"
      },
      "execution_count": 2,
      "outputs": []
    },
    {
      "cell_type": "code",
      "source": [
        "a"
      ],
      "metadata": {
        "colab": {
          "base_uri": "https://localhost:8080/"
        },
        "id": "dsU8x006JArh",
        "outputId": "65a18633-6c12-4760-ca2b-cc72573d4a24"
      },
      "execution_count": 3,
      "outputs": [
        {
          "output_type": "execute_result",
          "data": {
            "text/plain": [
              "[-5, -6, 9, 8, -27, -6, 13, -43, -67]"
            ]
          },
          "metadata": {},
          "execution_count": 3
        }
      ]
    },
    {
      "cell_type": "code",
      "source": [
        "l1=a[0:8]\n",
        "l2=a[1:]"
      ],
      "metadata": {
        "id": "X6p8AB8ZJIBB"
      },
      "execution_count": 4,
      "outputs": []
    },
    {
      "cell_type": "code",
      "source": [
        "print(l1)\n",
        "print(l2)"
      ],
      "metadata": {
        "colab": {
          "base_uri": "https://localhost:8080/"
        },
        "id": "UFoJKks2Jcyk",
        "outputId": "e4828b14-e5fb-4064-ee3b-2e319e09e867"
      },
      "execution_count": 5,
      "outputs": [
        {
          "output_type": "stream",
          "name": "stdout",
          "text": [
            "[-5, -6, 9, 8, -27, -6, 13, -43]\n",
            "[-6, 9, 8, -27, -6, 13, -43, -67]\n"
          ]
        }
      ]
    },
    {
      "cell_type": "code",
      "source": [
        "import numpy as np\n",
        "# Calculate covariance using numpy\n",
        "cov_matrix = np.cov(l1, l2, bias=False)\n",
        "\n",
        "# Covariance value is the off-diagonal element\n",
        "cov_value = cov_matrix[0, 1]\n",
        "\n",
        "print(\"Covariance between X and Y:\", cov_value)"
      ],
      "metadata": {
        "colab": {
          "base_uri": "https://localhost:8080/"
        },
        "id": "-aRFwOG0Jhi5",
        "outputId": "15ca564b-d30c-4a4f-b7f7-bd39e70be476"
      },
      "execution_count": 6,
      "outputs": [
        {
          "output_type": "stream",
          "name": "stdout",
          "text": [
            "Covariance between X and Y: 198.5892857142857\n"
          ]
        }
      ]
    },
    {
      "cell_type": "code",
      "source": [
        "l1c=np.var(l1)\n",
        "print(l1c)"
      ],
      "metadata": {
        "colab": {
          "base_uri": "https://localhost:8080/"
        },
        "id": "6Xa_DO4jKzeN",
        "outputId": "7d28038d-3ed3-4bee-ac1e-8feff22547f2"
      },
      "execution_count": 7,
      "outputs": [
        {
          "output_type": "stream",
          "name": "stdout",
          "text": [
            "322.859375\n"
          ]
        }
      ]
    },
    {
      "cell_type": "code",
      "source": [
        "phi=cov_value/l1c\n",
        "print(phi)"
      ],
      "metadata": {
        "colab": {
          "base_uri": "https://localhost:8080/"
        },
        "id": "Olx31p7pMfVY",
        "outputId": "7679d6a3-dd04-4758-91c1-413586400e7e"
      },
      "execution_count": 8,
      "outputs": [
        {
          "output_type": "stream",
          "name": "stdout",
          "text": [
            "0.6150953049273719\n"
          ]
        }
      ]
    },
    {
      "cell_type": "code",
      "source": [
        "arr.append(arr[len(arr)-1]+phi)"
      ],
      "metadata": {
        "id": "bQFJmiobMnS_"
      },
      "execution_count": 9,
      "outputs": []
    },
    {
      "cell_type": "code",
      "source": [
        "arr"
      ],
      "metadata": {
        "colab": {
          "base_uri": "https://localhost:8080/"
        },
        "id": "NenWdoc5M3-x",
        "outputId": "e77baa41-ca4f-4c60-be8b-01104905938a"
      },
      "execution_count": 10,
      "outputs": [
        {
          "output_type": "execute_result",
          "data": {
            "text/plain": [
              "[8, 13, 19, 10, 2, 29, 35, 22, 65, 132, 132.61509530492737]"
            ]
          },
          "metadata": {},
          "execution_count": 10
        }
      ]
    },
    {
      "cell_type": "code",
      "source": [],
      "metadata": {
        "id": "M48kbf0tM4sY"
      },
      "execution_count": 10,
      "outputs": []
    }
  ]
}